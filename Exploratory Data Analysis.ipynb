{
 "cells": [
  {
   "cell_type": "markdown",
   "id": "5e25ea09-74d6-47e6-bad6-e922f52c3532",
   "metadata": {},
   "source": [
    "# Personal Information\n",
    "Name: **Friso Harlaar**\n",
    "\n",
    "StudentID: **12869384**\n",
    "\n",
    "Email: [**friso.harlaar@student.uva.nl**](friso.harlaar@student.uva.nl)\n",
    "\n",
    "Submitted on: **23.03.2025**"
   ]
  },
  {
   "cell_type": "markdown",
   "id": "cee97293-865e-4938-bb45-fa537fce4c4f",
   "metadata": {},
   "source": [
    "[Github link](https://github.com/FrisoHarlaar/MSc-Data-Science-Thesis.git)"
   ]
  },
  {
   "cell_type": "markdown",
   "id": "e3cf6243-adfe-4eb8-bba3-bb2835079abd",
   "metadata": {},
   "source": [
    "# Data Context\n",
    "**I will be using two main datasets in this thesis. The first one will contain images scraped manually from the [aesthetics wiki](https://aesthetics.fandom.com/wiki/Aesthetics_Wiki), it will be used to finetune a Visual Transformar to create an aesthetics classifier. The second dataset will be a books dataset, which contains metadata of books, such as the title, author(s), genre, etc. While also containing the description of the book, reviews and the cover image. This will be used to train a multimodal model which takes both the textual description, reviews, metadata and cover image as input and classify the book into an aesthetic.**"
   ]
  },
  {
   "cell_type": "markdown",
   "id": "a833d964-56e1-49c7-8172-7435357624aa",
   "metadata": {},
   "source": [
    "# Data Description"
   ]
  },
  {
   "cell_type": "code",
   "execution_count": 1,
   "id": "534317db-d881-4e33-a358-754e2881e8bd",
   "metadata": {},
   "outputs": [],
   "source": [
    "# Imports\n",
    "import glob\n",
    "import gzip\n",
    "from IPython.display import Image, display\n",
    "import json\n",
    "import matplotlib.pyplot as plt\n",
    "import numpy as np\n",
    "import os\n",
    "import pandas as pd\n",
    "import re\n",
    "import seaborn as sns\n",
    "from tqdm.notebook import tqdm\n"
   ]
  },
  {
   "cell_type": "markdown",
   "id": "b582b299-f599-4140-a454-bcbfdeeb273f",
   "metadata": {},
   "source": [
    "### Data Loading"
   ]
  },
  {
   "cell_type": "markdown",
   "id": "76c7aa79",
   "metadata": {},
   "source": [
    "**Aesthetic images**"
   ]
  },
  {
   "cell_type": "markdown",
   "id": "8e02f935-120e-4e62-ae4c-adc31975d1d7",
   "metadata": {},
   "source": [
    "These were scraped from the [aesthetics wiki](https://aesthetics.fandom.com/wiki/Aesthetics_Wiki). A list of 24 aesthetics, which was curated by [Giolo & Berghman](https://firstmonday.org/ojs/index.php/fm/article/view/12723), was used, however 2 of the 24 aesthetics were removed from the Wiki and the FrogCore aesthetic was made a subaesthetic, meaning that it doesn't have it's own page anymore, so its count image count is incorrect. "
   ]
  },
  {
   "cell_type": "code",
   "execution_count": 2,
   "id": "9f0cf9be-2cac-4227-957f-ad893212e70c",
   "metadata": {},
   "outputs": [
    {
     "data": {
      "text/html": [
       "<div>\n",
       "<style scoped>\n",
       "    .dataframe tbody tr th:only-of-type {\n",
       "        vertical-align: middle;\n",
       "    }\n",
       "\n",
       "    .dataframe tbody tr th {\n",
       "        vertical-align: top;\n",
       "    }\n",
       "\n",
       "    .dataframe thead th {\n",
       "        text-align: right;\n",
       "    }\n",
       "</style>\n",
       "<table border=\"1\" class=\"dataframe\">\n",
       "  <thead>\n",
       "    <tr style=\"text-align: right;\">\n",
       "      <th></th>\n",
       "      <th>aesthetic</th>\n",
       "      <th>image_count</th>\n",
       "      <th>total_size_mb</th>\n",
       "      <th>avg_size_mb</th>\n",
       "    </tr>\n",
       "  </thead>\n",
       "  <tbody>\n",
       "    <tr>\n",
       "      <th>0</th>\n",
       "      <td>Frogcore</td>\n",
       "      <td>182</td>\n",
       "      <td>35.86</td>\n",
       "      <td>0.20</td>\n",
       "    </tr>\n",
       "    <tr>\n",
       "      <th>14</th>\n",
       "      <td>Kidcore</td>\n",
       "      <td>75</td>\n",
       "      <td>28.39</td>\n",
       "      <td>0.38</td>\n",
       "    </tr>\n",
       "    <tr>\n",
       "      <th>18</th>\n",
       "      <td>Dark_Academia</td>\n",
       "      <td>63</td>\n",
       "      <td>17.28</td>\n",
       "      <td>0.27</td>\n",
       "    </tr>\n",
       "    <tr>\n",
       "      <th>16</th>\n",
       "      <td>Fairy_Kei</td>\n",
       "      <td>60</td>\n",
       "      <td>7.77</td>\n",
       "      <td>0.13</td>\n",
       "    </tr>\n",
       "    <tr>\n",
       "      <th>19</th>\n",
       "      <td>Traumacore</td>\n",
       "      <td>59</td>\n",
       "      <td>19.03</td>\n",
       "      <td>0.32</td>\n",
       "    </tr>\n",
       "    <tr>\n",
       "      <th>7</th>\n",
       "      <td>Cottagecore</td>\n",
       "      <td>55</td>\n",
       "      <td>21.11</td>\n",
       "      <td>0.38</td>\n",
       "    </tr>\n",
       "    <tr>\n",
       "      <th>8</th>\n",
       "      <td>Ethereal</td>\n",
       "      <td>50</td>\n",
       "      <td>12.76</td>\n",
       "      <td>0.26</td>\n",
       "    </tr>\n",
       "    <tr>\n",
       "      <th>6</th>\n",
       "      <td>Vaporwave</td>\n",
       "      <td>47</td>\n",
       "      <td>44.19</td>\n",
       "      <td>0.94</td>\n",
       "    </tr>\n",
       "    <tr>\n",
       "      <th>10</th>\n",
       "      <td>Bloomcore</td>\n",
       "      <td>40</td>\n",
       "      <td>11.29</td>\n",
       "      <td>0.28</td>\n",
       "    </tr>\n",
       "    <tr>\n",
       "      <th>3</th>\n",
       "      <td>Cyberpunk</td>\n",
       "      <td>33</td>\n",
       "      <td>28.30</td>\n",
       "      <td>0.86</td>\n",
       "    </tr>\n",
       "    <tr>\n",
       "      <th>1</th>\n",
       "      <td>Pastel_Goth</td>\n",
       "      <td>30</td>\n",
       "      <td>3.21</td>\n",
       "      <td>0.11</td>\n",
       "    </tr>\n",
       "    <tr>\n",
       "      <th>21</th>\n",
       "      <td>Princesscore</td>\n",
       "      <td>29</td>\n",
       "      <td>6.60</td>\n",
       "      <td>0.23</td>\n",
       "    </tr>\n",
       "    <tr>\n",
       "      <th>15</th>\n",
       "      <td>Hellenic</td>\n",
       "      <td>28</td>\n",
       "      <td>28.37</td>\n",
       "      <td>1.01</td>\n",
       "    </tr>\n",
       "    <tr>\n",
       "      <th>4</th>\n",
       "      <td>Vibrant_Academia</td>\n",
       "      <td>22</td>\n",
       "      <td>7.97</td>\n",
       "      <td>0.36</td>\n",
       "    </tr>\n",
       "    <tr>\n",
       "      <th>17</th>\n",
       "      <td>Goblincore</td>\n",
       "      <td>21</td>\n",
       "      <td>9.14</td>\n",
       "      <td>0.44</td>\n",
       "    </tr>\n",
       "    <tr>\n",
       "      <th>13</th>\n",
       "      <td>Light_Academia</td>\n",
       "      <td>14</td>\n",
       "      <td>6.89</td>\n",
       "      <td>0.49</td>\n",
       "    </tr>\n",
       "    <tr>\n",
       "      <th>2</th>\n",
       "      <td>Angura_Kei</td>\n",
       "      <td>14</td>\n",
       "      <td>4.13</td>\n",
       "      <td>0.30</td>\n",
       "    </tr>\n",
       "    <tr>\n",
       "      <th>12</th>\n",
       "      <td>Virgo%27s_Tears</td>\n",
       "      <td>12</td>\n",
       "      <td>2.46</td>\n",
       "      <td>0.21</td>\n",
       "    </tr>\n",
       "    <tr>\n",
       "      <th>22</th>\n",
       "      <td>Atompunk</td>\n",
       "      <td>11</td>\n",
       "      <td>2.07</td>\n",
       "      <td>0.19</td>\n",
       "    </tr>\n",
       "    <tr>\n",
       "      <th>9</th>\n",
       "      <td>Monkeycore</td>\n",
       "      <td>10</td>\n",
       "      <td>2.34</td>\n",
       "      <td>0.23</td>\n",
       "    </tr>\n",
       "    <tr>\n",
       "      <th>20</th>\n",
       "      <td>Anglo_Gothic</td>\n",
       "      <td>8</td>\n",
       "      <td>0.27</td>\n",
       "      <td>0.03</td>\n",
       "    </tr>\n",
       "    <tr>\n",
       "      <th>5</th>\n",
       "      <td>Grandparentcore</td>\n",
       "      <td>7</td>\n",
       "      <td>0.35</td>\n",
       "      <td>0.05</td>\n",
       "    </tr>\n",
       "    <tr>\n",
       "      <th>11</th>\n",
       "      <td>Bubblegum_Witch</td>\n",
       "      <td>7</td>\n",
       "      <td>8.04</td>\n",
       "      <td>1.15</td>\n",
       "    </tr>\n",
       "  </tbody>\n",
       "</table>\n",
       "</div>"
      ],
      "text/plain": [
       "           aesthetic  image_count  total_size_mb  avg_size_mb\n",
       "0           Frogcore          182          35.86         0.20\n",
       "14           Kidcore           75          28.39         0.38\n",
       "18     Dark_Academia           63          17.28         0.27\n",
       "16         Fairy_Kei           60           7.77         0.13\n",
       "19        Traumacore           59          19.03         0.32\n",
       "7        Cottagecore           55          21.11         0.38\n",
       "8           Ethereal           50          12.76         0.26\n",
       "6          Vaporwave           47          44.19         0.94\n",
       "10         Bloomcore           40          11.29         0.28\n",
       "3          Cyberpunk           33          28.30         0.86\n",
       "1        Pastel_Goth           30           3.21         0.11\n",
       "21      Princesscore           29           6.60         0.23\n",
       "15          Hellenic           28          28.37         1.01\n",
       "4   Vibrant_Academia           22           7.97         0.36\n",
       "17        Goblincore           21           9.14         0.44\n",
       "13    Light_Academia           14           6.89         0.49\n",
       "2         Angura_Kei           14           4.13         0.30\n",
       "12   Virgo%27s_Tears           12           2.46         0.21\n",
       "22          Atompunk           11           2.07         0.19\n",
       "9         Monkeycore           10           2.34         0.23\n",
       "20      Anglo_Gothic            8           0.27         0.03\n",
       "5    Grandparentcore            7           0.35         0.05\n",
       "11   Bubblegum_Witch            7           8.04         1.15"
      ]
     },
     "execution_count": 2,
     "metadata": {},
     "output_type": "execute_result"
    }
   ],
   "source": [
    "base_path = \"data/aesthetic_images/\"\n",
    "\n",
    "aesthetic_folders = [f for f in os.listdir(base_path) if os.path.isdir(os.path.join(base_path, f))]\n",
    "\n",
    "counts = []\n",
    "\n",
    "for aesthetic in aesthetic_folders:\n",
    "    folder_path = os.path.join(base_path, aesthetic)\n",
    "    image_files = glob.glob(os.path.join(folder_path, \"*\"))\n",
    "    \n",
    "    total_size_bytes = sum(os.path.getsize(file) for file in image_files)\n",
    "    total_size_mb = total_size_bytes / (1024 * 1024)\n",
    "    \n",
    "    counts.append({\n",
    "        \"aesthetic\": aesthetic,\n",
    "        \"image_count\": len(image_files),\n",
    "        \"total_size_mb\": round(total_size_mb, 2),\n",
    "        \"avg_size_mb\": round(total_size_mb / len(image_files), 2) if image_files else 0\n",
    "    })\n",
    "\n",
    "df_image_counts = pd.DataFrame(counts)\n",
    "df_image_counts = df_image_counts.sort_values(\"image_count\", ascending=False)\n",
    "df_image_counts"
   ]
  },
  {
   "cell_type": "markdown",
   "id": "7266e17c",
   "metadata": {},
   "source": [
    "**Books dataset**"
   ]
  },
  {
   "cell_type": "code",
   "execution_count": 2,
   "id": "ee6ee022",
   "metadata": {},
   "outputs": [
    {
     "name": "stdout",
     "output_type": "stream",
     "text": [
      "['data/goodreads/goodreads_books/goodreads_book_works.json.gz', 'data/goodreads/goodreads_books/goodreads_book_genres_initial.json.gz', 'data/goodreads/goodreads_books/goodreads_book_authors.json.gz', 'data/goodreads/goodreads_books/goodreads_book_series.json.gz', 'data/goodreads/goodreads_books/goodreads_books.json.gz']\n"
     ]
    }
   ],
   "source": [
    "# There are multiple files in the goodreads dataset\n",
    "# Here is an overview of each file:\n",
    "# https://cseweb.ucsd.edu/~jmcauley/datasets/goodreads.html\n",
    "BOOKS_PATH = r'data/goodreads/goodreads_books/'\n",
    "\n",
    "# All book datasets\n",
    "book_files = glob.glob(os.path.join(BOOKS_PATH, \"*.gz\"))\n",
    "\n",
    "print(book_files)"
   ]
  },
  {
   "cell_type": "code",
   "execution_count": 3,
   "id": "a889a6c7-aed8-4a0f-9925-c4f8e2fce1d5",
   "metadata": {},
   "outputs": [
    {
     "data": {
      "application/vnd.jupyter.widget-view+json": {
       "model_id": "39f19b6293094723b776fb4b9cc8a410",
       "version_major": 2,
       "version_minor": 0
      },
      "text/plain": [
       "0it [00:00, ?it/s]"
      ]
     },
     "metadata": {},
     "output_type": "display_data"
    },
    {
     "name": "stdout",
     "output_type": "stream",
     "text": [
      "Processed 100,000 records\n",
      "Processed 200,000 records\n",
      "Processed 300,000 records\n",
      "Processed 400,000 records\n",
      "Processed 500,000 records\n",
      "Processed 600,000 records\n",
      "Processed 700,000 records\n",
      "Processed 800,000 records\n",
      "Processed 900,000 records\n",
      "Processed 1,000,000 records\n",
      "Processed 1,100,000 records\n",
      "Processed 1,200,000 records\n",
      "Processed 1,300,000 records\n",
      "Processed 1,400,000 records\n",
      "Processed 1,500,000 records\n",
      "Processed 1,600,000 records\n",
      "Processed 1,700,000 records\n",
      "Processed 1,800,000 records\n",
      "Processed 1,900,000 records\n",
      "Processed 2,000,000 records\n",
      "Processed 2,100,000 records\n",
      "Processed 2,200,000 records\n",
      "Processed 2,300,000 records\n",
      "Creating DataFrame with 2,360,655 records...\n"
     ]
    }
   ],
   "source": [
    "MAIN_BOOKS_PATH = r'data/goodreads/goodreads_books/goodreads_books.json.gz'\n",
    "\n",
    "def read_goodreads_data(file_path, max_rows=None, sample_size=10000, return_sample=True):\n",
    "    \"\"\"\n",
    "    Read Goodreads JSON.GZ data into a DataFrame\n",
    "    \n",
    "    Parameters:\n",
    "    -----------\n",
    "    file_path : str\n",
    "        Path to the goodreads_books.json.gz file\n",
    "    max_rows : int, optional\n",
    "        Maximum number of rows to read (None = read all)\n",
    "    sample_size : int, optional\n",
    "        Number of rows to sample if return_sample=True\n",
    "    return_sample : bool, default=True\n",
    "        If True, return a random sample instead of the full dataset\n",
    "        \n",
    "    Returns:\n",
    "    --------\n",
    "    DataFrame containing book data\n",
    "    \"\"\"\n",
    "    all_books = []\n",
    "    total_processed = 0\n",
    "    \n",
    "    # For sampling\n",
    "    if return_sample:\n",
    "        # First pass to count total lines (if we need exact sampling)\n",
    "        if not max_rows:\n",
    "            print(\"Counting total records for sampling...\")\n",
    "            with gzip.open(file_path, 'rt', encoding='utf-8') as f:\n",
    "                total_lines = sum(1 for _ in tqdm(f))\n",
    "            sampling_rate = min(1.0, sample_size / total_lines)\n",
    "            print(f\"Sampling rate: {sampling_rate:.4f} ({sample_size} of {total_lines:,})\")\n",
    "        else:\n",
    "            # If max_rows is specified, use that for sampling rate calculation\n",
    "            total_lines = max_rows\n",
    "            sampling_rate = min(1.0, sample_size / max_rows)\n",
    "    \n",
    "    # Read the file\n",
    "    with gzip.open(file_path, 'rt', encoding='utf-8') as f:\n",
    "        for i, line in tqdm(enumerate(f)):\n",
    "            # Stop if we reached max_rows\n",
    "            if max_rows and i >= max_rows:\n",
    "                break\n",
    "                \n",
    "            # Sample if requested\n",
    "            if return_sample and np.random.random() > sampling_rate:\n",
    "                continue\n",
    "                \n",
    "            try:\n",
    "                # Parse JSON line and append to list\n",
    "                book = json.loads(line.strip())\n",
    "                all_books.append(book)\n",
    "                total_processed += 1\n",
    "                \n",
    "                # Print progress for large datasets\n",
    "                if total_processed % 100000 == 0 and not return_sample:\n",
    "                    print(f\"Processed {total_processed:,} records\")\n",
    "                    \n",
    "            except json.JSONDecodeError:\n",
    "                print(f\"Error parsing JSON at line {i}\")\n",
    "    \n",
    "    print(f\"Creating DataFrame with {len(all_books):,} records...\")\n",
    "    df = pd.DataFrame(all_books)\n",
    "    \n",
    "    return df\n",
    "\n",
    "# 1. Get a sample of books\n",
    "# sample_df = read_goodreads_data(\n",
    "#     MAIN_BOOKS_PATH, \n",
    "#     return_sample=True, \n",
    "#     sample_size=10000\n",
    "# )\n",
    "# print(f\"Sample DataFrame shape: {sample_df.shape}\")\n",
    "# sample_df.head()\n",
    "\n",
    "# 2. Read the first N books\n",
    "# first_n_df = read_goodreads_data(\n",
    "#    '../goodreads/goodreads_books/goodreads_books.json.gz',\n",
    "#    max_rows=100000,\n",
    "#    return_sample=False\n",
    "# )\n",
    "\n",
    "# 3. Read all books (requires a lot of memory)\n",
    "df = read_goodreads_data(\n",
    "   MAIN_BOOKS_PATH,\n",
    "   return_sample=False\n",
    ")\n",
    "df.replace('', np.nan, inplace=True)"
   ]
  },
  {
   "cell_type": "code",
   "execution_count": 4,
   "id": "f2fdab97-d7c4-48d7-86c8-f054af4db287",
   "metadata": {},
   "outputs": [
    {
     "name": "stdout",
     "output_type": "stream",
     "text": [
      "Info: \n",
      "<class 'pandas.core.frame.DataFrame'>\n",
      "RangeIndex: 2360655 entries, 0 to 2360654\n",
      "Data columns (total 29 columns):\n",
      " #   Column                Dtype \n",
      "---  ------                ----- \n",
      " 0   isbn                  object\n",
      " 1   text_reviews_count    object\n",
      " 2   series                object\n",
      " 3   country_code          object\n",
      " 4   language_code         object\n",
      " 5   popular_shelves       object\n",
      " 6   asin                  object\n",
      " 7   is_ebook              object\n",
      " 8   average_rating        object\n",
      " 9   kindle_asin           object\n",
      " 10  similar_books         object\n",
      " 11  description           object\n",
      " 12  format                object\n",
      " 13  link                  object\n",
      " 14  authors               object\n",
      " 15  publisher             object\n",
      " 16  num_pages             object\n",
      " 17  publication_day       object\n",
      " 18  isbn13                object\n",
      " 19  publication_month     object\n",
      " 20  edition_information   object\n",
      " 21  publication_year      object\n",
      " 22  url                   object\n",
      " 23  image_url             object\n",
      " 24  book_id               object\n",
      " 25  ratings_count         object\n",
      " 26  work_id               object\n",
      " 27  title                 object\n",
      " 28  title_without_series  object\n",
      "dtypes: object(29)\n",
      "memory usage: 522.3+ MB\n"
     ]
    },
    {
     "data": {
      "text/plain": [
       "None"
      ]
     },
     "metadata": {},
     "output_type": "display_data"
    },
    {
     "name": "stdout",
     "output_type": "stream",
     "text": [
      "\n",
      "Missing values per column:\n"
     ]
    },
    {
     "data": {
      "text/plain": [
       "edition_information     90.764724\n",
       "asin                    80.110732\n",
       "kindle_asin             57.006424\n",
       "language_code           44.909273\n",
       "publication_day         43.395964\n",
       "isbn                    41.656786\n",
       "publication_month       37.402543\n",
       "isbn13                  33.052818\n",
       "num_pages               32.369533\n",
       "publisher               27.719510\n",
       "format                  27.397227\n",
       "publication_year        25.400789\n",
       "description             17.462653\n",
       "work_id                  0.022197\n",
       "url                      0.022197\n",
       "ratings_count            0.022197\n",
       "link                     0.022197\n",
       "average_rating           0.022197\n",
       "text_reviews_count       0.022197\n",
       "country_code             0.020757\n",
       "is_ebook                 0.020757\n",
       "image_url                0.020757\n",
       "title_without_series     0.000297\n",
       "title                    0.000297\n",
       "series                   0.000000\n",
       "similar_books            0.000000\n",
       "popular_shelves          0.000000\n",
       "authors                  0.000000\n",
       "book_id                  0.000000\n",
       "dtype: float64"
      ]
     },
     "metadata": {},
     "output_type": "display_data"
    },
    {
     "name": "stdout",
     "output_type": "stream",
     "text": [
      "\n",
      "Missing images:\n"
     ]
    },
    {
     "data": {
      "text/plain": [
       "981061"
      ]
     },
     "metadata": {},
     "output_type": "display_data"
    },
    {
     "name": "stdout",
     "output_type": "stream",
     "text": [
      "   isbn13     format edition_information  \\\n",
      "2     NaN  Hardcover   Book Club Edition   \n",
      "11    NaN        NaN                 NaN   \n",
      "20    NaN        NaN                 NaN   \n",
      "25    NaN        NaN                 NaN   \n",
      "28    NaN  Paperback                 NaN   \n",
      "31    NaN        NaN                 NaN   \n",
      "33    NaN        NaN                 NaN   \n",
      "34    NaN        NaN                 NaN   \n",
      "36    NaN        NaN                 NaN   \n",
      "38    NaN        NaN                 NaN   \n",
      "\n",
      "                                                 link  \n",
      "2   https://www.goodreads.com/book/show/7327624-th...  \n",
      "11  https://www.goodreads.com/book/show/33394837-t...  \n",
      "20  https://www.goodreads.com/book/show/30227122-t...  \n",
      "25  https://www.goodreads.com/book/show/12182387-t...  \n",
      "28  https://www.goodreads.com/book/show/16037549-v...  \n",
      "31  https://www.goodreads.com/book/show/29074697-t...  \n",
      "33       https://www.goodreads.com/book/show/16037543  \n",
      "34  https://www.goodreads.com/book/show/29074693-p...  \n",
      "36  https://www.goodreads.com/book/show/24994796-t...  \n",
      "38  https://www.goodreads.com/book/show/25742454-t...  \n"
     ]
    }
   ],
   "source": [
    "print('Info: ')\n",
    "display(df.info())\n",
    "\n",
    "print('\\nMissing values per column:')\n",
    "display((df.isnull().mean() * 100).sort_values(ascending=False))\n",
    "\n",
    "print('\\nMissing images:')\n",
    "NO_IMAGE_LINK = 'https://s.gr-assets.com/assets/nophoto/book/111x148-bcc042a9c91a29c1d680899eff700a03.png'\n",
    "display(df[df['image_url'] == NO_IMAGE_LINK].shape[0])\n",
    "\n",
    "# assume df is your cleaned DataFrame\n",
    "dups = df[df.duplicated('isbn13', keep=False)].sort_values('isbn13')\n",
    "print(dups[['isbn13','format','edition_information','link']].head(10))"
   ]
  },
  {
   "cell_type": "code",
   "execution_count": 5,
   "id": "9009fb52-8b25-4d8f-8a59-3c7a22c5d099",
   "metadata": {},
   "outputs": [
    {
     "name": "stdout",
     "output_type": "stream",
     "text": [
      "Schema overview:\n",
      "                  column   dtype\n",
      "0                   isbn  object\n",
      "1     text_reviews_count  object\n",
      "2                 series  object\n",
      "3           country_code  object\n",
      "4          language_code  object\n",
      "5        popular_shelves  object\n",
      "6                   asin  object\n",
      "7               is_ebook  object\n",
      "8         average_rating  object\n",
      "9            kindle_asin  object\n",
      "10         similar_books  object\n",
      "11           description  object\n",
      "12                format  object\n",
      "13                  link  object\n",
      "14               authors  object\n",
      "15             publisher  object\n",
      "16             num_pages  object\n",
      "17       publication_day  object\n",
      "18                isbn13  object\n",
      "19     publication_month  object\n",
      "20   edition_information  object\n",
      "21      publication_year  object\n",
      "22                   url  object\n",
      "23             image_url  object\n",
      "24               book_id  object\n",
      "25         ratings_count  object\n",
      "26               work_id  object\n",
      "27                 title  object\n",
      "28  title_without_series  object\n",
      "\n",
      "Numeric summary:\n",
      "       average_rating ratings_count text_reviews_count num_pages\n",
      "count         2360131       2360131            2360131   1596522\n",
      "unique            383         18627               4398      2551\n",
      "top              4.00             1                  1        32\n",
      "freq           114105        163256             585463     34947\n",
      "\n",
      "Top 10 categories for selected fields:\n",
      "\n",
      "language_code value counts:\n",
      "language_code\n",
      "eng      708457\n",
      "en-US     91452\n",
      "en-GB     58358\n",
      "spa       54524\n",
      "ita       50902\n",
      "ara       42978\n",
      "fre       32046\n",
      "ger       30941\n",
      "ind       27291\n",
      "por       23452\n",
      "Name: count, dtype: int64\n",
      "\n",
      "format value counts:\n",
      "format\n",
      "Paperback                894617\n",
      "Hardcover                359563\n",
      "ebook                    188733\n",
      "Kindle Edition           125566\n",
      "Mass Market Paperback     42224\n",
      "Audio CD                  30588\n",
      "Audiobook                 17387\n",
      "Audible Audio             11073\n",
      "Audio                      8335\n",
      "Unknown Binding            8126\n",
      "Name: count, dtype: int64\n",
      "\n",
      "country_code value counts:\n",
      "country_code\n",
      "US    2360165\n",
      "Name: count, dtype: int64\n",
      "\n",
      "Percentage missing per column:\n",
      "edition_information    90.764724\n",
      "asin                   80.110732\n",
      "kindle_asin            57.006424\n",
      "language_code          44.909273\n",
      "publication_day        43.395964\n",
      "isbn                   41.656786\n",
      "publication_month      37.402543\n",
      "isbn13                 33.052818\n",
      "num_pages              32.369533\n",
      "publisher              27.719510\n",
      "dtype: float64\n",
      "\n",
      "Cleaned DataFrame info:\n",
      "<class 'pandas.core.frame.DataFrame'>\n",
      "Index: 1580393 entries, 0 to 2360653\n",
      "Data columns (total 30 columns):\n",
      " #   Column                Non-Null Count    Dtype         \n",
      "---  ------                --------------    -----         \n",
      " 0   isbn                  1318178 non-null  object        \n",
      " 1   text_reviews_count    1580371 non-null  float64       \n",
      " 2   series                1580393 non-null  object        \n",
      " 3   country_code          1580393 non-null  category      \n",
      " 4   language_code         790234 non-null   category      \n",
      " 5   popular_shelves       1580393 non-null  object        \n",
      " 6   asin                  1 non-null        object        \n",
      " 7   is_ebook              1580393 non-null  object        \n",
      " 8   average_rating        1580371 non-null  float64       \n",
      " 9   kindle_asin           634925 non-null   object        \n",
      " 10  similar_books         1580393 non-null  object        \n",
      " 11  description           1376557 non-null  object        \n",
      " 12  format                1359913 non-null  category      \n",
      " 13  link                  1580371 non-null  object        \n",
      " 14  authors               1580393 non-null  object        \n",
      " 15  publisher             1367498 non-null  object        \n",
      " 16  num_pages             1257510 non-null  float64       \n",
      " 17  publication_day       1118520 non-null  object        \n",
      " 18  isbn13                1580392 non-null  object        \n",
      " 19  publication_month     1219206 non-null  object        \n",
      " 20  edition_information   141199 non-null   object        \n",
      " 21  publication_year      1377782 non-null  object        \n",
      " 22  url                   1580371 non-null  object        \n",
      " 23  image_url             1580393 non-null  object        \n",
      " 24  book_id               1580393 non-null  object        \n",
      " 25  ratings_count         1580371 non-null  float64       \n",
      " 26  work_id               1580371 non-null  object        \n",
      " 27  title                 1580389 non-null  object        \n",
      " 28  title_without_series  1580389 non-null  object        \n",
      " 29  publication_date      1118101 non-null  datetime64[ns]\n",
      "dtypes: category(3), datetime64[ns](1), float64(4), object(22)\n",
      "memory usage: 345.2+ MB\n",
      "None\n"
     ]
    }
   ],
   "source": [
    "# 1. Schema overview\n",
    "schema = pd.DataFrame({\n",
    "    'column': df.columns,\n",
    "    'dtype': [str(df[col].dtype) for col in df.columns]\n",
    "})\n",
    "print(\"Schema overview:\")\n",
    "print(schema)\n",
    "\n",
    "# 2. Univariate summaries\n",
    "numeric_cols = ['average_rating', 'ratings_count', 'text_reviews_count', 'num_pages']\n",
    "print(\"\\nNumeric summary:\")\n",
    "print(df[numeric_cols].describe())\n",
    "\n",
    "categorical_cols = ['language_code', 'format', 'country_code']\n",
    "print(\"\\nTop 10 categories for selected fields:\")\n",
    "for col in categorical_cols:\n",
    "    print(f\"\\n{col} value counts:\")\n",
    "    print(df[col].value_counts().head(10))\n",
    "\n",
    "# 3. Missingness report\n",
    "missing_pct = df.isnull().mean() * 100\n",
    "print(\"\\nPercentage missing per column:\")\n",
    "print(missing_pct.sort_values(ascending=False).head(10))\n",
    "\n",
    "# 4. Examples of cleaning & transformations\n",
    "# Convert rating and counts to numeric\n",
    "df['average_rating'] = pd.to_numeric(df['average_rating'], errors='coerce')\n",
    "df['ratings_count'] = pd.to_numeric(df['ratings_count'], errors='coerce')\n",
    "df['text_reviews_count'] = pd.to_numeric(df['text_reviews_count'], errors='coerce')\n",
    "df['num_pages'] = pd.to_numeric(df['num_pages'], errors='coerce')\n",
    "\n",
    "# Combine publication fields into a single datetime\n",
    "df['publication_date'] = pd.to_datetime(\n",
    "    dict(year=df['publication_year'].astype(float),\n",
    "         month=df['publication_month'].astype(float),\n",
    "         day=df['publication_day'].astype(float)),\n",
    "    errors='coerce'\n",
    ")\n",
    "\n",
    "# Convert low‑cardinality text fields to categories\n",
    "for col in ['language_code', 'format', 'country_code']:\n",
    "    df[col] = df[col].astype('category')\n",
    "\n",
    "# Deduplicate by ISBN13\n",
    "df_dedup = df.drop_duplicates(subset=['isbn13']).copy()\n",
    "\n",
    "print(\"\\nCleaned DataFrame info:\")\n",
    "print(df_dedup.info())\n",
    "\n"
   ]
  },
  {
   "cell_type": "code",
   "execution_count": 6,
   "id": "d20432c5-8eb0-446f-9e30-cf7d8dda8f5c",
   "metadata": {},
   "outputs": [
    {
     "name": "stdout",
     "output_type": "stream",
     "text": [
      "\\begin{table}[ht]\n",
      "\\centering\n",
      "\\begin{tabular}{lll}\n",
      "\\toprule\n",
      "Column & Data type & Description \\\\\n",
      "\\midrule\n",
      "isbn & string & International Standard Book Number \\\\\n",
      "text_reviews_count & Int64 & Number of user text reviews \\\\\n",
      "series & object & Series name if the book belongs to one \\\\\n",
      "country_code & category & Country code of publication \\\\\n",
      "language_code & category & Language code of the book \\\\\n",
      "popular_shelves & object & Comma‑separated popular Goodreads shelves \\\\\n",
      "asin & string & Amazon Standard Identification Number \\\\\n",
      "is_ebook & string & Indicator whether this is an ebook \\\\\n",
      "average_rating & Float64 & Average user rating on Goodreads \\\\\n",
      "kindle_asin & string & ASIN of the Kindle edition \\\\\n",
      "similar_books & object & Comma‑separated IDs of similar books \\\\\n",
      "description & string & Book description or synopsis \\\\\n",
      "format & category & Book format (e.g., Hardcover, Paperback) \\\\\n",
      "link & string & Link to the Goodreads page \\\\\n",
      "authors & object & Author name(s) \\\\\n",
      "publisher & string & Publisher name \\\\\n",
      "num_pages & Int64 & Number of pages \\\\\n",
      "publication_day & string & Day of publication \\\\\n",
      "isbn13 & string & 13‑digit ISBN \\\\\n",
      "publication_month & string & Month of publication \\\\\n",
      "edition_information & string & Edition‑specific notes \\\\\n",
      "publication_year & string & Year of publication \\\\\n",
      "url & string & URL to the book page \\\\\n",
      "image_url & string & URL to the cover image \\\\\n",
      "book_id & string & Goodreads book identifier \\\\\n",
      "ratings_count & Int64 & Total number of ratings \\\\\n",
      "work_id & string & Goodreads work identifier \\\\\n",
      "title & string & Full book title \\\\\n",
      "title_without_series & string & Title without series name \\\\\n",
      "publication_date & datetime64[ns] &  \\\\\n",
      "\\bottomrule\n",
      "\\end{tabular}\n",
      "\\caption{Schema of the dataset: column names, inferred data types, and brief descriptions.}\n",
      "\\label{tab:dataset_schema}\n",
      "\\end{table}\n"
     ]
    }
   ],
   "source": [
    "\n",
    "# 1. Load your data (uncomment & adjust path if needed)\n",
    "# df = pd.read_csv('path/to/your_dataset.csv', dtype=str)\n",
    "\n",
    "# 2. Infer better pandas dtypes\n",
    "df_inferred = df_dedup.convert_dtypes()\n",
    "\n",
    "# 3. Define one‑line descriptions\n",
    "descriptions = {\n",
    "    'isbn': 'International Standard Book Number',\n",
    "    'text_reviews_count': 'Number of user text reviews',\n",
    "    'series': 'Series name if the book belongs to one',\n",
    "    'country_code': 'Country code of publication',\n",
    "    'language_code': 'Language code of the book',\n",
    "    'popular_shelves': 'Comma‑separated popular Goodreads shelves',\n",
    "    'asin': 'Amazon Standard Identification Number',\n",
    "    'is_ebook': 'Indicator whether this is an ebook',\n",
    "    'average_rating': 'Average user rating on Goodreads',\n",
    "    'kindle_asin': 'ASIN of the Kindle edition',\n",
    "    'similar_books': 'Comma‑separated IDs of similar books',\n",
    "    'description': 'Book description or synopsis',\n",
    "    'format': 'Book format (e.g., Hardcover, Paperback)',\n",
    "    'link': 'Link to the Goodreads page',\n",
    "    'authors': 'Author name(s)',\n",
    "    'publisher': 'Publisher name',\n",
    "    'num_pages': 'Number of pages',\n",
    "    'publication_day': 'Day of publication',\n",
    "    'isbn13': '13‑digit ISBN',\n",
    "    'publication_month': 'Month of publication',\n",
    "    'edition_information': 'Edition‑specific notes',\n",
    "    'publication_year': 'Year of publication',\n",
    "    'url': 'URL to the book page',\n",
    "    'image_url': 'URL to the cover image',\n",
    "    'book_id': 'Goodreads book identifier',\n",
    "    'ratings_count': 'Total number of ratings',\n",
    "    'work_id': 'Goodreads work identifier',\n",
    "    'title': 'Full book title',\n",
    "    'title_without_series': 'Title without series name'\n",
    "}\n",
    "\n",
    "# 4. Build and print LaTeX code\n",
    "lines = [\n",
    "    r\"\\begin{table}[ht]\",\n",
    "    r\"\\centering\",\n",
    "    r\"\\begin{tabular}{lll}\",\n",
    "    r\"\\toprule\",\n",
    "    r\"Column & Data type & Description \\\\\",\n",
    "    r\"\\midrule\",\n",
    "]\n",
    "for col, dtype in df_inferred.dtypes.items():\n",
    "    desc = descriptions.get(col, '')\n",
    "    lines.append(f\"{col} & {dtype} & {desc} \\\\\\\\\")\n",
    "lines += [\n",
    "    r\"\\bottomrule\",\n",
    "    r\"\\end{tabular}\",\n",
    "    r\"\\caption{Schema of the dataset: column names, inferred data types, and brief descriptions.}\",\n",
    "    r\"\\label{tab:dataset_schema}\",\n",
    "    r\"\\end{table}\"\n",
    "]\n",
    "print(\"\\n\".join(lines))\n"
   ]
  },
  {
   "cell_type": "markdown",
   "id": "15cd7d0f-cb9d-4bcb-aa6f-5da75d33de40",
   "metadata": {},
   "source": [
    "## Books without an image and description\n",
    "I drop books without an image and description as these are the main features we will use to train the model. I also drop the rows where the url is NaN, as they miss a lot of data, thus are very dirty rows."
   ]
  },
  {
   "cell_type": "code",
   "execution_count": 7,
   "id": "0fbbc5c0-d084-4402-bbc9-fa1f41005a47",
   "metadata": {},
   "outputs": [
    {
     "data": {
      "text/plain": [
       "(569024, 30)"
      ]
     },
     "metadata": {},
     "output_type": "display_data"
    },
    {
     "data": {
      "text/plain": [
       "(203836, 30)"
      ]
     },
     "metadata": {},
     "output_type": "display_data"
    },
    {
     "data": {
      "text/plain": [
       "(123696, 30)"
      ]
     },
     "metadata": {},
     "output_type": "display_data"
    }
   ],
   "source": [
    "no_image = df_dedup[df_dedup['image_url'] == NO_IMAGE_LINK]\n",
    "display(no_image.shape)\n",
    "\n",
    "no_desc = df_dedup[df_dedup['description'].isna()]\n",
    "display(no_desc.shape)\n",
    "\n",
    "no_image_and_desc = df_dedup[(df_dedup['image_url'] == NO_IMAGE_LINK) & (df_dedup['description'].isna())]\n",
    "display(no_image_and_desc.shape)"
   ]
  },
  {
   "cell_type": "code",
   "execution_count": 8,
   "id": "109b8cdb-3ad4-486a-a6b9-5e8b59fb7283",
   "metadata": {},
   "outputs": [
    {
     "data": {
      "text/plain": [
       "(1011369, 30)"
      ]
     },
     "metadata": {},
     "output_type": "display_data"
    },
    {
     "data": {
      "text/plain": [
       "(931229, 30)"
      ]
     },
     "metadata": {},
     "output_type": "display_data"
    },
    {
     "name": "stdout",
     "output_type": "stream",
     "text": [
      "\n",
      "Missing values per column:\n"
     ]
    },
    {
     "data": {
      "text/plain": [
       "isbn                    207621\n",
       "text_reviews_count           0\n",
       "series                       0\n",
       "country_code                 0\n",
       "language_code           359221\n",
       "popular_shelves              0\n",
       "asin                    931228\n",
       "is_ebook                     0\n",
       "average_rating               0\n",
       "kindle_asin             539505\n",
       "similar_books                0\n",
       "description                  0\n",
       "format                   59790\n",
       "link                         0\n",
       "authors                      0\n",
       "publisher                58980\n",
       "num_pages               125364\n",
       "publication_day         233470\n",
       "isbn13                       1\n",
       "publication_month       155824\n",
       "edition_information     830499\n",
       "publication_year         50658\n",
       "url                          0\n",
       "image_url                    0\n",
       "book_id                      0\n",
       "ratings_count                0\n",
       "work_id                      0\n",
       "title                        1\n",
       "title_without_series         1\n",
       "publication_date        233811\n",
       "dtype: int64"
      ]
     },
     "metadata": {},
     "output_type": "display_data"
    },
    {
     "name": "stdout",
     "output_type": "stream",
     "text": [
      "\n",
      "Missing images:\n"
     ]
    },
    {
     "data": {
      "text/plain": [
       "0"
      ]
     },
     "metadata": {},
     "output_type": "display_data"
    }
   ],
   "source": [
    "df_dedup.drop(no_image.index, axis='index', inplace=True)\n",
    "display(df_dedup.shape)\n",
    "no_desc_only = no_desc.index.difference(no_image_and_desc.index)\n",
    "df_dedup.drop(no_desc_only, axis='index', inplace=True)\n",
    "display(df_dedup.shape)\n",
    "\n",
    "# Check missing values again\n",
    "print('\\nMissing values per column:')\n",
    "display(df_dedup.isna().sum())\n",
    "\n",
    "print('\\nMissing images:')\n",
    "display(df_dedup[df_dedup['image_url'] == NO_IMAGE_LINK].shape[0])"
   ]
  },
  {
   "cell_type": "code",
   "execution_count": 9,
   "id": "5cf7dc88-a4f5-4c0c-9a8b-7ec9e74de867",
   "metadata": {},
   "outputs": [
    {
     "data": {
      "text/html": [
       "<div>\n",
       "<style scoped>\n",
       "    .dataframe tbody tr th:only-of-type {\n",
       "        vertical-align: middle;\n",
       "    }\n",
       "\n",
       "    .dataframe tbody tr th {\n",
       "        vertical-align: top;\n",
       "    }\n",
       "\n",
       "    .dataframe thead th {\n",
       "        text-align: right;\n",
       "    }\n",
       "</style>\n",
       "<table border=\"1\" class=\"dataframe\">\n",
       "  <thead>\n",
       "    <tr style=\"text-align: right;\">\n",
       "      <th></th>\n",
       "      <th>isbn</th>\n",
       "      <th>text_reviews_count</th>\n",
       "      <th>series</th>\n",
       "      <th>country_code</th>\n",
       "      <th>language_code</th>\n",
       "      <th>popular_shelves</th>\n",
       "      <th>asin</th>\n",
       "      <th>is_ebook</th>\n",
       "      <th>average_rating</th>\n",
       "      <th>kindle_asin</th>\n",
       "      <th>...</th>\n",
       "      <th>edition_information</th>\n",
       "      <th>publication_year</th>\n",
       "      <th>url</th>\n",
       "      <th>image_url</th>\n",
       "      <th>book_id</th>\n",
       "      <th>ratings_count</th>\n",
       "      <th>work_id</th>\n",
       "      <th>title</th>\n",
       "      <th>title_without_series</th>\n",
       "      <th>publication_date</th>\n",
       "    </tr>\n",
       "  </thead>\n",
       "  <tbody>\n",
       "  </tbody>\n",
       "</table>\n",
       "<p>0 rows × 30 columns</p>\n",
       "</div>"
      ],
      "text/plain": [
       "Empty DataFrame\n",
       "Columns: [isbn, text_reviews_count, series, country_code, language_code, popular_shelves, asin, is_ebook, average_rating, kindle_asin, similar_books, description, format, link, authors, publisher, num_pages, publication_day, isbn13, publication_month, edition_information, publication_year, url, image_url, book_id, ratings_count, work_id, title, title_without_series, publication_date]\n",
       "Index: []\n",
       "\n",
       "[0 rows x 30 columns]"
      ]
     },
     "metadata": {},
     "output_type": "display_data"
    }
   ],
   "source": [
    "no_url = df_dedup[df_dedup['url'].isna()]\n",
    "display(no_url.head())\n",
    "# df.drop(no_url.index, axis=\"index\", inplace=True)"
   ]
  },
  {
   "cell_type": "markdown",
   "id": "9dd8851c-61a4-44f7-85bd-0355e30eb3c9",
   "metadata": {},
   "source": [
    "## Identifiers\n",
    "I am unsure if I need an external identifier, as I also have the book_id, so for now I will leave the missing values in"
   ]
  },
  {
   "cell_type": "code",
   "execution_count": 10,
   "id": "b6c89a27-756c-41fd-852f-d47289e382dd",
   "metadata": {},
   "outputs": [
    {
     "data": {
      "text/plain": [
       "723609"
      ]
     },
     "execution_count": 10,
     "metadata": {},
     "output_type": "execute_result"
    }
   ],
   "source": [
    "len(df_dedup['isbn'].unique())"
   ]
  },
  {
   "cell_type": "code",
   "execution_count": 11,
   "id": "684a9271-6718-4b41-b5c3-0244d6351b14",
   "metadata": {},
   "outputs": [
    {
     "data": {
      "text/plain": [
       "(0, 30)"
      ]
     },
     "metadata": {},
     "output_type": "display_data"
    }
   ],
   "source": [
    "display(df_dedup[df_dedup['isbn'].isna() & df_dedup['isbn13'].isna() & df_dedup['asin'].isna()].shape)"
   ]
  },
  {
   "cell_type": "code",
   "execution_count": 12,
   "id": "8fa9058c-cbe3-4479-a796-3f37aabcc02a",
   "metadata": {},
   "outputs": [
    {
     "data": {
      "text/plain": [
       "asin                    99.999893\n",
       "edition_information     89.183112\n",
       "kindle_asin             57.934729\n",
       "language_code           38.574937\n",
       "publication_date        25.107788\n",
       "publication_day         25.071169\n",
       "isbn                    22.295375\n",
       "publication_month       16.733156\n",
       "num_pages               13.462210\n",
       "format                   6.420547\n",
       "publisher                6.333566\n",
       "publication_year         5.439908\n",
       "isbn13                   0.000107\n",
       "title_without_series     0.000107\n",
       "title                    0.000107\n",
       "link                     0.000000\n",
       "similar_books            0.000000\n",
       "average_rating           0.000000\n",
       "is_ebook                 0.000000\n",
       "series                   0.000000\n",
       "country_code             0.000000\n",
       "popular_shelves          0.000000\n",
       "text_reviews_count       0.000000\n",
       "description              0.000000\n",
       "authors                  0.000000\n",
       "url                      0.000000\n",
       "ratings_count            0.000000\n",
       "book_id                  0.000000\n",
       "image_url                0.000000\n",
       "work_id                  0.000000\n",
       "dtype: float64"
      ]
     },
     "metadata": {},
     "output_type": "display_data"
    }
   ],
   "source": [
    "display((df_dedup.isna().mean() * 100).sort_values(ascending=False))"
   ]
  },
  {
   "cell_type": "markdown",
   "id": "ddfc9c39-eaee-474f-8355-89405aa9cab6",
   "metadata": {},
   "source": [
    "## Cover images\n",
    "The cover images are in the dataset as urls to the images on the goodreads server. They only are the small image urls (98x135 px), while most current Visual Transformers can handle bigger input images, so it would be a waste if we didn't use larger images. However after examining the source of images on goodreads.com I found out how to change the url to get the larger image (318x438). I simply have to replace the m after what seems to be the book id with l."
   ]
  },
  {
   "cell_type": "code",
   "execution_count": 13,
   "id": "320086ed-e497-42ab-b421-defcd25052e2",
   "metadata": {},
   "outputs": [
    {
     "data": {
      "text/html": [
       "<div>\n",
       "<style scoped>\n",
       "    .dataframe tbody tr th:only-of-type {\n",
       "        vertical-align: middle;\n",
       "    }\n",
       "\n",
       "    .dataframe tbody tr th {\n",
       "        vertical-align: top;\n",
       "    }\n",
       "\n",
       "    .dataframe thead th {\n",
       "        text-align: right;\n",
       "    }\n",
       "</style>\n",
       "<table border=\"1\" class=\"dataframe\">\n",
       "  <thead>\n",
       "    <tr style=\"text-align: right;\">\n",
       "      <th></th>\n",
       "      <th>image_url</th>\n",
       "      <th>image_url_large</th>\n",
       "    </tr>\n",
       "  </thead>\n",
       "  <tbody>\n",
       "    <tr>\n",
       "      <th>2</th>\n",
       "      <td>https://images.gr-assets.com/books/1304100136m...</td>\n",
       "      <td>https://images.gr-assets.com/books/1304100136l...</td>\n",
       "    </tr>\n",
       "    <tr>\n",
       "      <th>7</th>\n",
       "      <td>https://images.gr-assets.com/books/1316637798m...</td>\n",
       "      <td>https://images.gr-assets.com/books/1316637798l...</td>\n",
       "    </tr>\n",
       "    <tr>\n",
       "      <th>8</th>\n",
       "      <td>https://images.gr-assets.com/books/1493525974m...</td>\n",
       "      <td>https://images.gr-assets.com/books/1493525974l...</td>\n",
       "    </tr>\n",
       "    <tr>\n",
       "      <th>9</th>\n",
       "      <td>https://images.gr-assets.com/books/1328768789m...</td>\n",
       "      <td>https://images.gr-assets.com/books/1328768789l...</td>\n",
       "    </tr>\n",
       "    <tr>\n",
       "      <th>10</th>\n",
       "      <td>https://images.gr-assets.com/books/1328724803m...</td>\n",
       "      <td>https://images.gr-assets.com/books/1328724803l...</td>\n",
       "    </tr>\n",
       "  </tbody>\n",
       "</table>\n",
       "</div>"
      ],
      "text/plain": [
       "                                            image_url  \\\n",
       "2   https://images.gr-assets.com/books/1304100136m...   \n",
       "7   https://images.gr-assets.com/books/1316637798m...   \n",
       "8   https://images.gr-assets.com/books/1493525974m...   \n",
       "9   https://images.gr-assets.com/books/1328768789m...   \n",
       "10  https://images.gr-assets.com/books/1328724803m...   \n",
       "\n",
       "                                      image_url_large  \n",
       "2   https://images.gr-assets.com/books/1304100136l...  \n",
       "7   https://images.gr-assets.com/books/1316637798l...  \n",
       "8   https://images.gr-assets.com/books/1493525974l...  \n",
       "9   https://images.gr-assets.com/books/1328768789l...  \n",
       "10  https://images.gr-assets.com/books/1328724803l...  "
      ]
     },
     "execution_count": 13,
     "metadata": {},
     "output_type": "execute_result"
    }
   ],
   "source": [
    "# Replace the m after digits, before / with l to get the larger image urls\n",
    "df_dedup['image_url_large'] = df_dedup['image_url'].apply(lambda url: re.sub(r'(\\d)m/', r'\\1l/', url))\n",
    "df_dedup[['image_url', 'image_url_large']].head()"
   ]
  },
  {
   "cell_type": "code",
   "execution_count": 14,
   "id": "7acc9c30-3917-4e0e-b904-a2be03a31995",
   "metadata": {},
   "outputs": [
    {
     "data": {
      "text/html": [
       "<img src=\"https://images.gr-assets.com/books/1304100136m/7327624.jpg\"/>"
      ],
      "text/plain": [
       "<IPython.core.display.Image object>"
      ]
     },
     "metadata": {},
     "output_type": "display_data"
    },
    {
     "data": {
      "text/html": [
       "<img src=\"https://images.gr-assets.com/books/1304100136l/7327624.jpg\"/>"
      ],
      "text/plain": [
       "<IPython.core.display.Image object>"
      ]
     },
     "metadata": {},
     "output_type": "display_data"
    }
   ],
   "source": [
    "# Showing the difference\n",
    "display(Image(url=df_dedup['image_url'].iloc[0]))\n",
    "display(Image(url=df_dedup['image_url_large'].iloc[0]))"
   ]
  },
  {
   "cell_type": "markdown",
   "id": "b415cdd0-9b18-478c-8461-e435f5ff910a",
   "metadata": {},
   "source": [
    "## Book descriptions\n",
    "As we can see, the descriptions have a lot of outliers based on word count."
   ]
  },
  {
   "cell_type": "code",
   "execution_count": 15,
   "id": "af70ff7c-d5ec-4af5-9e03-7e7e46b11140",
   "metadata": {},
   "outputs": [
    {
     "data": {
      "text/plain": [
       "2           14\n",
       "7          163\n",
       "8          152\n",
       "9           34\n",
       "10         131\n",
       "          ... \n",
       "2360641     99\n",
       "2360648    163\n",
       "2360650    153\n",
       "2360651     75\n",
       "2360653    177\n",
       "Name: description_word_counts, Length: 931229, dtype: int64"
      ]
     },
     "metadata": {},
     "output_type": "display_data"
    }
   ],
   "source": [
    "df_dedup['description_word_counts'] = df_dedup['description'].str.split(' ').str.len()\n",
    "display(df_dedup['description_word_counts'])"
   ]
  },
  {
   "cell_type": "code",
   "execution_count": 16,
   "id": "ae5bd9d3-4765-41df-a908-5fe86100c840",
   "metadata": {},
   "outputs": [
    {
     "name": "stdout",
     "output_type": "stream",
     "text": [
      "count      931229.0\n",
      "mean     140.908005\n",
      "std       85.983914\n",
      "min             1.0\n",
      "25%            85.0\n",
      "50%           129.0\n",
      "75%           180.0\n",
      "max          6634.0\n",
      "Name: description_word_counts, dtype: Float64\n"
     ]
    },
    {
     "data": {
      "image/png": "[encoded data removed]",
      "text/plain": [
       "<Figure size 500x800 with 2 Axes>"
      ]
     },
     "metadata": {},
     "output_type": "display_data"
    }
   ],
   "source": [
    "%matplotlib inline\n",
    "\n",
    "df_dedup['description_word_counts'] = df_dedup['description_word_counts'].astype('Int64')\n",
    "print(df_dedup['description_word_counts'].describe())\n",
    "\n",
    "fig, ax = plt.subplots(2, 1, figsize=(5, 8))\n",
    "\n",
    "sns.histplot(x=df_dedup['description_word_counts'], ax=ax[0])\n",
    "# ax[0].set_title('Histogram of Description Word Counts')\n",
    "ax[0].set_xlabel('Word Count')\n",
    "\n",
    "sns.boxplot(x=df_dedup['description_word_counts'], ax=ax[1])\n",
    "# ax[1].set_title('Boxplot of Description Word Counts')\n",
    "ax[1].set_xlabel('Word Count')\n",
    "\n",
    "plt.tight_layout()\n",
    "# plt.savefig('description_word_counts.png', dpi=300, bbox_inches='tight')"
   ]
  },
  {
   "cell_type": "markdown",
   "id": "1abbe4f3-28a0-407b-a3cf-d230b2cb24de",
   "metadata": {},
   "source": [
    "## Book size (number of pages)"
   ]
  },
  {
   "cell_type": "code",
   "execution_count": 17,
   "id": "783d2d3a-7295-46dc-91d8-7d3f3286ee39",
   "metadata": {},
   "outputs": [
    {
     "name": "stdout",
     "output_type": "stream",
     "text": [
      "count      805865.0\n",
      "mean      274.04073\n",
      "std      236.080774\n",
      "min             0.0\n",
      "25%           168.0\n",
      "50%           256.0\n",
      "75%           352.0\n",
      "max         82000.0\n",
      "Name: num_pages, dtype: Float64\n"
     ]
    }
   ],
   "source": [
    "df_dedup['num_pages'] = df_dedup['num_pages'].astype('Int64')\n",
    "\n",
    "print(df_dedup['num_pages'].describe())"
   ]
  },
  {
   "cell_type": "markdown",
   "id": "2f72da4d-2a1f-436b-882c-c66d2fae7ba0",
   "metadata": {},
   "source": [
    "#### makes sense..."
   ]
  },
  {
   "cell_type": "code",
   "execution_count": 18,
   "id": "af497a72-f062-4487-a223-4c6b38f74780",
   "metadata": {},
   "outputs": [
    {
     "data": {
      "text/html": [
       "<div>\n",
       "<style scoped>\n",
       "    .dataframe tbody tr th:only-of-type {\n",
       "        vertical-align: middle;\n",
       "    }\n",
       "\n",
       "    .dataframe tbody tr th {\n",
       "        vertical-align: top;\n",
       "    }\n",
       "\n",
       "    .dataframe thead th {\n",
       "        text-align: right;\n",
       "    }\n",
       "</style>\n",
       "<table border=\"1\" class=\"dataframe\">\n",
       "  <thead>\n",
       "    <tr style=\"text-align: right;\">\n",
       "      <th></th>\n",
       "      <th>isbn</th>\n",
       "      <th>text_reviews_count</th>\n",
       "      <th>series</th>\n",
       "      <th>country_code</th>\n",
       "      <th>language_code</th>\n",
       "      <th>popular_shelves</th>\n",
       "      <th>asin</th>\n",
       "      <th>is_ebook</th>\n",
       "      <th>average_rating</th>\n",
       "      <th>kindle_asin</th>\n",
       "      <th>...</th>\n",
       "      <th>url</th>\n",
       "      <th>image_url</th>\n",
       "      <th>book_id</th>\n",
       "      <th>ratings_count</th>\n",
       "      <th>work_id</th>\n",
       "      <th>title</th>\n",
       "      <th>title_without_series</th>\n",
       "      <th>publication_date</th>\n",
       "      <th>image_url_large</th>\n",
       "      <th>description_word_counts</th>\n",
       "    </tr>\n",
       "  </thead>\n",
       "  <tbody>\n",
       "    <tr>\n",
       "      <th>882599</th>\n",
       "      <td>1616504854</td>\n",
       "      <td>5.0</td>\n",
       "      <td>[]</td>\n",
       "      <td>US</td>\n",
       "      <td>eng</td>\n",
       "      <td>[{'count': '469', 'name': 'to-read'}, {'count'...</td>\n",
       "      <td>NaN</td>\n",
       "      <td>true</td>\n",
       "      <td>4.32</td>\n",
       "      <td>NaN</td>\n",
       "      <td>...</td>\n",
       "      <td>https://www.goodreads.com/book/show/18193089-r...</td>\n",
       "      <td>https://images.gr-assets.com/books/1373778502m...</td>\n",
       "      <td>18193089</td>\n",
       "      <td>15.0</td>\n",
       "      <td>26527011</td>\n",
       "      <td>Rogue on the Rollaway</td>\n",
       "      <td>Rogue on the Rollaway</td>\n",
       "      <td>2013-10-01</td>\n",
       "      <td>https://images.gr-assets.com/books/1373778502l...</td>\n",
       "      <td>189</td>\n",
       "    </tr>\n",
       "  </tbody>\n",
       "</table>\n",
       "<p>1 rows × 32 columns</p>\n",
       "</div>"
      ],
      "text/plain": [
       "              isbn  text_reviews_count series country_code language_code  \\\n",
       "882599  1616504854                 5.0     []           US           eng   \n",
       "\n",
       "                                          popular_shelves asin is_ebook  \\\n",
       "882599  [{'count': '469', 'name': 'to-read'}, {'count'...  NaN     true   \n",
       "\n",
       "        average_rating kindle_asin  ...  \\\n",
       "882599            4.32         NaN  ...   \n",
       "\n",
       "                                                      url  \\\n",
       "882599  https://www.goodreads.com/book/show/18193089-r...   \n",
       "\n",
       "                                                image_url   book_id  \\\n",
       "882599  https://images.gr-assets.com/books/1373778502m...  18193089   \n",
       "\n",
       "       ratings_count   work_id                  title   title_without_series  \\\n",
       "882599          15.0  26527011  Rogue on the Rollaway  Rogue on the Rollaway   \n",
       "\n",
       "       publication_date                                    image_url_large  \\\n",
       "882599       2013-10-01  https://images.gr-assets.com/books/1373778502l...   \n",
       "\n",
       "       description_word_counts  \n",
       "882599                     189  \n",
       "\n",
       "[1 rows x 32 columns]"
      ]
     },
     "execution_count": 18,
     "metadata": {},
     "output_type": "execute_result"
    }
   ],
   "source": [
    "df_dedup[df_dedup['num_pages'] == df_dedup['num_pages'].max()]"
   ]
  },
  {
   "cell_type": "markdown",
   "id": "fd5d1679-f5d1-4551-b47a-5f120ad28e3e",
   "metadata": {},
   "source": [
    "## Handling the outliers\n",
    "I use the Inter Quartile Range (IQR) rule to check for outliers, which is what the boxplot also uses, which bounds the data with $\\mu \\pm 1.5 * IQR$. This is 2.9% of the total data, however many of the 'outliers' still have a reasonable word count, so we don't just want to drop them. Also because we are using a multimodal model, it will be good to train it on instances where the description is small or very large, as they are very much possible instances."
   ]
  },
  {
   "cell_type": "code",
   "execution_count": 19,
   "id": "dcbaacb9-b1d6-4a96-942c-7bfe9544080f",
   "metadata": {},
   "outputs": [],
   "source": [
    "# col = 'description_word_counts'\n",
    "\n",
    "# Q1 = df[col].quantile(0.25)\n",
    "# Q3 = df[col].quantile(0.75)\n",
    "\n",
    "# IQR = Q3 - Q1\n",
    "\n",
    "# lower_bound = Q1 - 1.5 * IQR\n",
    "# upper_bound = Q3 + 1.5 * IQR\n",
    "\n",
    "# outliers = df[(df[col] < lower_bound) | (df[col] > upper_bound)]\n",
    "# display(outliers)\n",
    "# print(len(outliers)/len(df))"
   ]
  },
  {
   "cell_type": "markdown",
   "id": "e431ef66-c733-4433-9cbc-35f88f6a0a13",
   "metadata": {},
   "source": [
    "## Language code\n",
    "It is also interesting that the dataset is multilingual, with 214 different language codes, however the distribution is very skewed and a lot of rows are missing a language_code. As can be expected, English is the dominant language, covering 66% of the total rows that have a language code. A multilingual LLM can be used, however depending on the model, it might be necessary to drop some languages from the data. Also, it may be preferred to only train the classifier on English books, as the users of the final system likely do not want recommendations in a language other than English (or Dutch). For now it is more important to handle the missing values, which I will impute with the detected language from the description, or title if the description is NaN."
   ]
  },
  {
   "cell_type": "code",
   "execution_count": 24,
   "id": "565b9893-87d4-4026-a5c6-d901b036ed6f",
   "metadata": {},
   "outputs": [
    {
     "data": {
      "text/plain": [
       "count       226.000000\n",
       "mean       2531.008850\n",
       "std       19887.427061\n",
       "min           0.000000\n",
       "25%           0.000000\n",
       "50%           1.000000\n",
       "75%          82.750000\n",
       "max      292617.000000\n",
       "Name: count, dtype: float64"
      ]
     },
     "metadata": {},
     "output_type": "display_data"
    },
    {
     "data": {
      "text/plain": [
       "language_code\n",
       "eng      292617\n",
       "ita       32530\n",
       "spa       31219\n",
       "en-US     29681\n",
       "fre       20248\n",
       "ger       18643\n",
       "en-GB     14873\n",
       "por       13431\n",
       "nl        12413\n",
       "ind       12395\n",
       "Name: count, dtype: int64"
      ]
     },
     "metadata": {},
     "output_type": "display_data"
    },
    {
     "data": {
      "text/plain": [
       "0.589"
      ]
     },
     "metadata": {},
     "output_type": "display_data"
    },
    {
     "name": "stdout",
     "output_type": "stream",
     "text": [
      "\n",
      "\n",
      "Dutch books: \n",
      " 12413\n"
     ]
    },
    {
     "data": {
      "text/plain": [
       "(359221, 32)"
      ]
     },
     "metadata": {},
     "output_type": "display_data"
    },
    {
     "data": {
      "text/plain": [
       "(931229, 32)"
      ]
     },
     "metadata": {},
     "output_type": "display_data"
    }
   ],
   "source": [
    "language_counts = df_dedup['language_code'].value_counts()\n",
    "display(language_counts.describe())\n",
    "top10= language_counts.sort_values(ascending=False).head(10)\n",
    "display(top10)\n",
    "display(round(top10.loc[['eng', 'en-US', 'en-GB']].sum()/language_counts.sum(), 3))\n",
    "print('\\n\\nDutch books: \\n', df_dedup[df_dedup['language_code'] == 'nl'].shape[0])\n",
    "display(df_dedup[df_dedup['language_code'].isna()].shape, df_dedup.shape)"
   ]
  },
  {
   "cell_type": "code",
   "execution_count": 25,
   "id": "35120378-958f-4335-b72f-6cb8ad569b0a",
   "metadata": {},
   "outputs": [
    {
     "data": {
      "application/vnd.jupyter.widget-view+json": {
       "model_id": "b006ccfe25c643baac6653f88fc3e0fc",
       "version_major": 2,
       "version_minor": 0
      },
      "text/plain": [
       "  0%|          | 0/359221 [00:00<?, ?it/s]"
      ]
     },
     "metadata": {},
     "output_type": "display_data"
    },
    {
     "data": {
      "text/html": [
       "<div>\n",
       "<style scoped>\n",
       "    .dataframe tbody tr th:only-of-type {\n",
       "        vertical-align: middle;\n",
       "    }\n",
       "\n",
       "    .dataframe tbody tr th {\n",
       "        vertical-align: top;\n",
       "    }\n",
       "\n",
       "    .dataframe thead th {\n",
       "        text-align: right;\n",
       "    }\n",
       "</style>\n",
       "<table border=\"1\" class=\"dataframe\">\n",
       "  <thead>\n",
       "    <tr style=\"text-align: right;\">\n",
       "      <th></th>\n",
       "      <th>language_code</th>\n",
       "      <th>count</th>\n",
       "    </tr>\n",
       "  </thead>\n",
       "  <tbody>\n",
       "    <tr>\n",
       "      <th>0</th>\n",
       "      <td>--</td>\n",
       "      <td>29</td>\n",
       "    </tr>\n",
       "    <tr>\n",
       "      <th>1</th>\n",
       "      <td>abk</td>\n",
       "      <td>4</td>\n",
       "    </tr>\n",
       "    <tr>\n",
       "      <th>2</th>\n",
       "      <td>ady</td>\n",
       "      <td>1</td>\n",
       "    </tr>\n",
       "    <tr>\n",
       "      <th>3</th>\n",
       "      <td>af</td>\n",
       "      <td>45</td>\n",
       "    </tr>\n",
       "    <tr>\n",
       "      <th>4</th>\n",
       "      <td>afr</td>\n",
       "      <td>178</td>\n",
       "    </tr>\n",
       "    <tr>\n",
       "      <th>...</th>\n",
       "      <td>...</td>\n",
       "      <td>...</td>\n",
       "    </tr>\n",
       "    <tr>\n",
       "      <th>181</th>\n",
       "      <td>vls</td>\n",
       "      <td>12</td>\n",
       "    </tr>\n",
       "    <tr>\n",
       "      <th>182</th>\n",
       "      <td>wak</td>\n",
       "      <td>2</td>\n",
       "    </tr>\n",
       "    <tr>\n",
       "      <th>183</th>\n",
       "      <td>wel</td>\n",
       "      <td>9</td>\n",
       "    </tr>\n",
       "    <tr>\n",
       "      <th>184</th>\n",
       "      <td>yid</td>\n",
       "      <td>1</td>\n",
       "    </tr>\n",
       "    <tr>\n",
       "      <th>185</th>\n",
       "      <td>zho</td>\n",
       "      <td>1052</td>\n",
       "    </tr>\n",
       "  </tbody>\n",
       "</table>\n",
       "<p>186 rows × 2 columns</p>\n",
       "</div>"
      ],
      "text/plain": [
       "    language_code  count\n",
       "0              --     29\n",
       "1             abk      4\n",
       "2             ady      1\n",
       "3              af     45\n",
       "4             afr    178\n",
       "..            ...    ...\n",
       "181           vls     12\n",
       "182           wak      2\n",
       "183           wel      9\n",
       "184           yid      1\n",
       "185           zho   1052\n",
       "\n",
       "[186 rows x 2 columns]"
      ]
     },
     "metadata": {},
     "output_type": "display_data"
    }
   ],
   "source": [
    "import pandas as pd\n",
    "from langdetect import detect, DetectorFactory\n",
    "from tqdm.notebook import tqdm\n",
    "\n",
    "# seed for reproducibility\n",
    "DetectorFactory.seed = 749\n",
    "tqdm.pandas()\n",
    "\n",
    "# 1. Cast language_code back to a regular object (string) so you can assign arbitrary new codes\n",
    "df_dedup['language_code'] = df_dedup['language_code'].astype('object')\n",
    "\n",
    "# 2. Define your detector\n",
    "def detect_language_from_description_or_title(row):\n",
    "    text = row.get('description') or row.get('title') or \"\"\n",
    "    try:\n",
    "        return detect(text) if text.strip() else None\n",
    "    except:\n",
    "        return None\n",
    "\n",
    "# 3. Fill only the missing ones\n",
    "mask = df_dedup['language_code'].isnull()\n",
    "df_dedup.loc[mask, 'language_code'] = (\n",
    "    df_dedup.loc[mask]\n",
    "          .progress_apply(detect_language_from_description_or_title, axis=1)\n",
    ")\n",
    "\n",
    "# 4. (Optional) If you want to go back to a categorical dtype\n",
    "df_dedup['language_code'] = df_dedup['language_code'].astype('category')\n",
    "\n",
    "# 5. Inspect\n",
    "row_counts = df_dedup.groupby('language_code').size().reset_index(name='count')\n",
    "display(row_counts)\n"
   ]
  },
  {
   "cell_type": "code",
   "execution_count": 27,
   "id": "801007bc-989b-4872-aa22-c36edf37d2ff",
   "metadata": {},
   "outputs": [
    {
     "data": {
      "text/html": [
       "<div>\n",
       "<style scoped>\n",
       "    .dataframe tbody tr th:only-of-type {\n",
       "        vertical-align: middle;\n",
       "    }\n",
       "\n",
       "    .dataframe tbody tr th {\n",
       "        vertical-align: top;\n",
       "    }\n",
       "\n",
       "    .dataframe thead th {\n",
       "        text-align: right;\n",
       "    }\n",
       "</style>\n",
       "<table border=\"1\" class=\"dataframe\">\n",
       "  <thead>\n",
       "    <tr style=\"text-align: right;\">\n",
       "      <th></th>\n",
       "      <th>count</th>\n",
       "    </tr>\n",
       "  </thead>\n",
       "  <tbody>\n",
       "    <tr>\n",
       "      <th>count</th>\n",
       "      <td>186.000000</td>\n",
       "    </tr>\n",
       "    <tr>\n",
       "      <th>mean</th>\n",
       "      <td>5006.220430</td>\n",
       "    </tr>\n",
       "    <tr>\n",
       "      <th>std</th>\n",
       "      <td>33500.971096</td>\n",
       "    </tr>\n",
       "    <tr>\n",
       "      <th>min</th>\n",
       "      <td>1.000000</td>\n",
       "    </tr>\n",
       "    <tr>\n",
       "      <th>25%</th>\n",
       "      <td>1.250000</td>\n",
       "    </tr>\n",
       "    <tr>\n",
       "      <th>50%</th>\n",
       "      <td>28.000000</td>\n",
       "    </tr>\n",
       "    <tr>\n",
       "      <th>75%</th>\n",
       "      <td>485.750000</td>\n",
       "    </tr>\n",
       "    <tr>\n",
       "      <th>max</th>\n",
       "      <td>349040.000000</td>\n",
       "    </tr>\n",
       "  </tbody>\n",
       "</table>\n",
       "</div>"
      ],
      "text/plain": [
       "               count\n",
       "count     186.000000\n",
       "mean     5006.220430\n",
       "std     33500.971096\n",
       "min         1.000000\n",
       "25%         1.250000\n",
       "50%        28.000000\n",
       "75%       485.750000\n",
       "max    349040.000000"
      ]
     },
     "metadata": {},
     "output_type": "display_data"
    },
    {
     "data": {
      "text/html": [
       "<div>\n",
       "<style scoped>\n",
       "    .dataframe tbody tr th:only-of-type {\n",
       "        vertical-align: middle;\n",
       "    }\n",
       "\n",
       "    .dataframe tbody tr th {\n",
       "        vertical-align: top;\n",
       "    }\n",
       "\n",
       "    .dataframe thead th {\n",
       "        text-align: right;\n",
       "    }\n",
       "</style>\n",
       "<table border=\"1\" class=\"dataframe\">\n",
       "  <thead>\n",
       "    <tr style=\"text-align: right;\">\n",
       "      <th></th>\n",
       "      <th>language_code</th>\n",
       "      <th>count</th>\n",
       "    </tr>\n",
       "  </thead>\n",
       "  <tbody>\n",
       "    <tr>\n",
       "      <th>34</th>\n",
       "      <td>en</td>\n",
       "      <td>349040</td>\n",
       "    </tr>\n",
       "    <tr>\n",
       "      <th>39</th>\n",
       "      <td>eng</td>\n",
       "      <td>292617</td>\n",
       "    </tr>\n",
       "    <tr>\n",
       "      <th>86</th>\n",
       "      <td>ita</td>\n",
       "      <td>32530</td>\n",
       "    </tr>\n",
       "    <tr>\n",
       "      <th>156</th>\n",
       "      <td>spa</td>\n",
       "      <td>31219</td>\n",
       "    </tr>\n",
       "    <tr>\n",
       "      <th>38</th>\n",
       "      <td>en-US</td>\n",
       "      <td>29681</td>\n",
       "    </tr>\n",
       "    <tr>\n",
       "      <th>54</th>\n",
       "      <td>fre</td>\n",
       "      <td>20248</td>\n",
       "    </tr>\n",
       "    <tr>\n",
       "      <th>58</th>\n",
       "      <td>ger</td>\n",
       "      <td>18643</td>\n",
       "    </tr>\n",
       "    <tr>\n",
       "      <th>36</th>\n",
       "      <td>en-GB</td>\n",
       "      <td>14873</td>\n",
       "    </tr>\n",
       "    <tr>\n",
       "      <th>134</th>\n",
       "      <td>por</td>\n",
       "      <td>13431</td>\n",
       "    </tr>\n",
       "    <tr>\n",
       "      <th>116</th>\n",
       "      <td>nl</td>\n",
       "      <td>12778</td>\n",
       "    </tr>\n",
       "  </tbody>\n",
       "</table>\n",
       "</div>"
      ],
      "text/plain": [
       "    language_code   count\n",
       "34             en  349040\n",
       "39            eng  292617\n",
       "86            ita   32530\n",
       "156           spa   31219\n",
       "38          en-US   29681\n",
       "54            fre   20248\n",
       "58            ger   18643\n",
       "36          en-GB   14873\n",
       "134           por   13431\n",
       "116            nl   12778"
      ]
     },
     "metadata": {},
     "output_type": "display_data"
    },
    {
     "data": {
      "text/plain": [
       "0.737"
      ]
     },
     "metadata": {},
     "output_type": "display_data"
    },
    {
     "name": "stdout",
     "output_type": "stream",
     "text": [
      "\n",
      "\n",
      "Dutch books: \n",
      " 12778\n",
      "(931229,)\n"
     ]
    }
   ],
   "source": [
    "display(row_counts.describe())\n",
    "top10= row_counts.sort_values(by='count', ascending=False).head(10)\n",
    "display(top10)\n",
    "display(round(top10[top10['language_code'].isin(['en', 'eng', 'en-US', 'en-GB'])]['count'].sum()/row_counts['count'].sum(), 3))\n",
    "print('\\n\\nDutch books: \\n', df_dedup[df_dedup['language_code'] == 'nl'].shape[0])\n",
    "print(mask.shape)"
   ]
  },
  {
   "cell_type": "code",
   "execution_count": 33,
   "id": "3f45603d-fb41-472a-bbcc-312103130f59",
   "metadata": {},
   "outputs": [
    {
     "data": {
      "image/png": "[encoded data removed]",
      "text/plain": [
       "<Figure size 640x480 with 1 Axes>"
      ]
     },
     "metadata": {},
     "output_type": "display_data"
    }
   ],
   "source": [
    "# 1) compute top‐10\n",
    "top10 = row_counts.sort_values(by='count', ascending=False).head(10)\n",
    "\n",
    "# 2) plot\n",
    "fig, ax = plt.subplots()\n",
    "ax.bar(top10['language_code'], top10['count'])\n",
    "ax.set_xlabel('Language Code')\n",
    "ax.set_ylabel('Number of Books')\n",
    "plt.xticks(rotation=45, ha='right')\n",
    "plt.tight_layout()\n",
    "\n",
    "# 3) save for LaTeX\n",
    "# fig.savefig('top10_language_counts.png', dpi=300, bbox_inches='tight')"
   ]
  },
  {
   "cell_type": "code",
   "execution_count": 28,
   "id": "1ef18477-90c1-4dcd-8952-3fb0917a6d5e",
   "metadata": {},
   "outputs": [
    {
     "data": {
      "text/plain": [
       "(931229, 32)"
      ]
     },
     "metadata": {},
     "output_type": "display_data"
    }
   ],
   "source": [
    "display(df_dedup.shape)"
   ]
  },
  {
   "cell_type": "code",
   "execution_count": 29,
   "id": "c33b453f-1bc2-4cad-8021-e548d307f154",
   "metadata": {},
   "outputs": [],
   "source": [
    "df_dedup.to_parquet(\"preprocessed_books_2025_04_20.parquet\", index=False, compression=\"snappy\")"
   ]
  },
  {
   "cell_type": "code",
   "execution_count": null,
   "id": "44bf4e68-29bc-4d90-9535-5011f23c0de0",
   "metadata": {},
   "outputs": [],
   "source": []
  }
 ],
 "metadata": {
  "kernelspec": {
   "display_name": "Python 3",
   "language": "python",
   "name": "python3"
  },
  "language_info": {
   "codemirror_mode": {
    "name": "ipython",
    "version": 3
   },
   "file_extension": ".py",
   "mimetype": "text/x-python",
   "name": "python",
   "nbconvert_exporter": "python",
   "pygments_lexer": "ipython3",
   "version": "3.13.3"
  }
 },
 "nbformat": 4,
 "nbformat_minor": 5
}
