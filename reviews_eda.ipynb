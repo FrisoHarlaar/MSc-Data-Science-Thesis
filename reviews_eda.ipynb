{
 "cells": [
  {
   "cell_type": "code",
   "execution_count": 1,
   "id": "f0c2a44c",
   "metadata": {},
   "outputs": [
    {
     "name": "stdout",
     "output_type": "stream",
     "text": [
      "Counting total records for sampling...\n"
     ]
    },
    {
     "data": {
      "application/vnd.jupyter.widget-view+json": {
       "model_id": "5e2d29aab05d4e4ba6287922b3eb03b4",
       "version_major": 2,
       "version_minor": 0
      },
      "text/plain": [
       "0it [00:00, ?it/s]"
      ]
     },
     "metadata": {},
     "output_type": "display_data"
    },
    {
     "name": "stdout",
     "output_type": "stream",
     "text": [
      "Sampling rate: 0.0006 (10000 of 15,739,967)\n"
     ]
    },
    {
     "data": {
      "application/vnd.jupyter.widget-view+json": {
       "model_id": "aae0c94325ac4fa6890aaf8b9781347c",
       "version_major": 2,
       "version_minor": 0
      },
      "text/plain": [
       "0it [00:00, ?it/s]"
      ]
     },
     "metadata": {},
     "output_type": "display_data"
    },
    {
     "name": "stdout",
     "output_type": "stream",
     "text": [
      "Creating DataFrame with 10,190 records...\n",
      "Sample DataFrame shape: (10190, 11)\n"
     ]
    },
    {
     "data": {
      "text/html": [
       "<div>\n",
       "<style scoped>\n",
       "    .dataframe tbody tr th:only-of-type {\n",
       "        vertical-align: middle;\n",
       "    }\n",
       "\n",
       "    .dataframe tbody tr th {\n",
       "        vertical-align: top;\n",
       "    }\n",
       "\n",
       "    .dataframe thead th {\n",
       "        text-align: right;\n",
       "    }\n",
       "</style>\n",
       "<table border=\"1\" class=\"dataframe\">\n",
       "  <thead>\n",
       "    <tr style=\"text-align: right;\">\n",
       "      <th></th>\n",
       "      <th>user_id</th>\n",
       "      <th>book_id</th>\n",
       "      <th>review_id</th>\n",
       "      <th>rating</th>\n",
       "      <th>review_text</th>\n",
       "      <th>date_added</th>\n",
       "      <th>date_updated</th>\n",
       "      <th>read_at</th>\n",
       "      <th>started_at</th>\n",
       "      <th>n_votes</th>\n",
       "      <th>n_comments</th>\n",
       "    </tr>\n",
       "  </thead>\n",
       "  <tbody>\n",
       "    <tr>\n",
       "      <th>0</th>\n",
       "      <td>b54c83f02c748fe75ed309e1e12eace2</td>\n",
       "      <td>13490125</td>\n",
       "      <td>6805797820e382dcb41d4ac1e229f7f3</td>\n",
       "      <td>3</td>\n",
       "      <td>\"shr lbly@ l yDHk\" .. fDl twSyf llktb ljmyl ld...</td>\n",
       "      <td>Sat Sep 28 10:51:44 -0700 2013</td>\n",
       "      <td>Sat Sep 28 10:54:04 -0700 2013</td>\n",
       "      <td></td>\n",
       "      <td></td>\n",
       "      <td>1</td>\n",
       "      <td>0</td>\n",
       "    </tr>\n",
       "    <tr>\n",
       "      <th>1</th>\n",
       "      <td>40b795551cd5b1dae85ff2f7b8ddee27</td>\n",
       "      <td>160057</td>\n",
       "      <td>32b8c7c383fc7f65d7521150ada13b35</td>\n",
       "      <td>4</td>\n",
       "      <td>I remember getting this book from \\n Weekly Re...</td>\n",
       "      <td>Thu Feb 25 15:33:09 -0800 2010</td>\n",
       "      <td>Thu Feb 25 15:47:15 -0800 2010</td>\n",
       "      <td>Fri Jan 01 00:00:00 -0800 1982</td>\n",
       "      <td></td>\n",
       "      <td>0</td>\n",
       "      <td>0</td>\n",
       "    </tr>\n",
       "    <tr>\n",
       "      <th>2</th>\n",
       "      <td>753746d5d26fea030b33299b34ea1299</td>\n",
       "      <td>11859244</td>\n",
       "      <td>01fd1c6c732ce6673912555058e33fe4</td>\n",
       "      <td>3</td>\n",
       "      <td>Alex Flinn's Cloaked was a fun mashup of vario...</td>\n",
       "      <td>Sat Jun 29 07:18:01 -0700 2013</td>\n",
       "      <td>Sat Jun 29 07:22:03 -0700 2013</td>\n",
       "      <td>Thu Jun 27 00:00:00 -0700 2013</td>\n",
       "      <td></td>\n",
       "      <td>0</td>\n",
       "      <td>0</td>\n",
       "    </tr>\n",
       "    <tr>\n",
       "      <th>3</th>\n",
       "      <td>5752e83b5c1ccdd8014aaf358b80c199</td>\n",
       "      <td>1019582</td>\n",
       "      <td>4e766fc70d41fbb14ce182a0dd6baa1d</td>\n",
       "      <td>4</td>\n",
       "      <td>This was an awesome, information book about tr...</td>\n",
       "      <td>Sat Oct 17 15:13:08 -0700 2009</td>\n",
       "      <td>Sat Oct 17 15:16:01 -0700 2009</td>\n",
       "      <td>Sat Oct 17 00:00:00 -0700 2009</td>\n",
       "      <td></td>\n",
       "      <td>0</td>\n",
       "      <td>0</td>\n",
       "    </tr>\n",
       "    <tr>\n",
       "      <th>4</th>\n",
       "      <td>8925c45517c467b47b99b0d2bd24d3d5</td>\n",
       "      <td>22838820</td>\n",
       "      <td>1107872d80b025dc1a97ec39be1fa6da</td>\n",
       "      <td>2</td>\n",
       "      <td>DNF 68% \\n This book wasn't for me. It's label...</td>\n",
       "      <td>Sun Aug 03 18:30:07 -0700 2014</td>\n",
       "      <td>Wed Aug 13 20:49:55 -0700 2014</td>\n",
       "      <td>Mon Aug 11 00:00:00 -0700 2014</td>\n",
       "      <td>Sun Aug 10 00:00:00 -0700 2014</td>\n",
       "      <td>1</td>\n",
       "      <td>0</td>\n",
       "    </tr>\n",
       "  </tbody>\n",
       "</table>\n",
       "</div>"
      ],
      "text/plain": [
       "                            user_id   book_id  \\\n",
       "0  b54c83f02c748fe75ed309e1e12eace2  13490125   \n",
       "1  40b795551cd5b1dae85ff2f7b8ddee27    160057   \n",
       "2  753746d5d26fea030b33299b34ea1299  11859244   \n",
       "3  5752e83b5c1ccdd8014aaf358b80c199   1019582   \n",
       "4  8925c45517c467b47b99b0d2bd24d3d5  22838820   \n",
       "\n",
       "                          review_id  rating  \\\n",
       "0  6805797820e382dcb41d4ac1e229f7f3       3   \n",
       "1  32b8c7c383fc7f65d7521150ada13b35       4   \n",
       "2  01fd1c6c732ce6673912555058e33fe4       3   \n",
       "3  4e766fc70d41fbb14ce182a0dd6baa1d       4   \n",
       "4  1107872d80b025dc1a97ec39be1fa6da       2   \n",
       "\n",
       "                                         review_text  \\\n",
       "0  \"shr lbly@ l yDHk\" .. fDl twSyf llktb ljmyl ld...   \n",
       "1  I remember getting this book from \\n Weekly Re...   \n",
       "2  Alex Flinn's Cloaked was a fun mashup of vario...   \n",
       "3  This was an awesome, information book about tr...   \n",
       "4  DNF 68% \\n This book wasn't for me. It's label...   \n",
       "\n",
       "                       date_added                    date_updated  \\\n",
       "0  Sat Sep 28 10:51:44 -0700 2013  Sat Sep 28 10:54:04 -0700 2013   \n",
       "1  Thu Feb 25 15:33:09 -0800 2010  Thu Feb 25 15:47:15 -0800 2010   \n",
       "2  Sat Jun 29 07:18:01 -0700 2013  Sat Jun 29 07:22:03 -0700 2013   \n",
       "3  Sat Oct 17 15:13:08 -0700 2009  Sat Oct 17 15:16:01 -0700 2009   \n",
       "4  Sun Aug 03 18:30:07 -0700 2014  Wed Aug 13 20:49:55 -0700 2014   \n",
       "\n",
       "                          read_at                      started_at  n_votes  \\\n",
       "0                                                                        1   \n",
       "1  Fri Jan 01 00:00:00 -0800 1982                                        0   \n",
       "2  Thu Jun 27 00:00:00 -0700 2013                                        0   \n",
       "3  Sat Oct 17 00:00:00 -0700 2009                                        0   \n",
       "4  Mon Aug 11 00:00:00 -0700 2014  Sun Aug 10 00:00:00 -0700 2014        1   \n",
       "\n",
       "   n_comments  \n",
       "0           0  \n",
       "1           0  \n",
       "2           0  \n",
       "3           0  \n",
       "4           0  "
      ]
     },
     "execution_count": 1,
     "metadata": {},
     "output_type": "execute_result"
    }
   ],
   "source": [
    "from helpers import read_goodreads_data\n",
    "\n",
    "MAIN_BOOKS_PATH = r'data/goodreads/goodreads_reviews/goodreads_reviews_dedup.json.gz'\n",
    "\n",
    "# 1. Get a sample of books\n",
    "sample_df = read_goodreads_data(\n",
    "    MAIN_BOOKS_PATH, \n",
    "    return_sample=True, \n",
    "    sample_size=10000\n",
    ")\n",
    "print(f\"Sample DataFrame shape: {sample_df.shape}\")\n",
    "sample_df.head()"
   ]
  },
  {
   "cell_type": "code",
   "execution_count": null,
   "id": "9f9ef5d9",
   "metadata": {},
   "outputs": [],
   "source": []
  }
 ],
 "metadata": {
  "kernelspec": {
   "display_name": "Python 3",
   "language": "python",
   "name": "python3"
  },
  "language_info": {
   "codemirror_mode": {
    "name": "ipython",
    "version": 3
   },
   "file_extension": ".py",
   "mimetype": "text/x-python",
   "name": "python",
   "nbconvert_exporter": "python",
   "pygments_lexer": "ipython3",
   "version": "3.13.3"
  }
 },
 "nbformat": 4,
 "nbformat_minor": 5
}
